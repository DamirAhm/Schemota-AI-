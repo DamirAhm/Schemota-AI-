{
 "cells": [
  {
   "cell_type": "code",
   "execution_count": 2,
   "metadata": {},
   "outputs": [
    {
     "name": "stdout",
     "output_type": "stream",
     "text": [
      "Массив:\n",
      "[[0.]\n",
      " [0.]]\n"
     ]
    }
   ],
   "source": [
    "import numpy as np\n",
    "\n",
    "array = np.zeros((2, 1))\n",
    "\n",
    "print(\"Массив:\")\n",
    "print(array)"
   ]
  },
  {
   "cell_type": "code",
   "execution_count": null,
   "metadata": {},
   "outputs": [
    {
     "name": "stdout",
     "output_type": "stream",
     "text": [
      "Массив с равномерным распределением:\n",
      "[[0.34336586]\n",
      " [0.82666858]]\n",
      "Массив с нормальным распределением:\n",
      "[[-0.12316002]\n",
      " [ 0.27414533]]\n"
     ]
    }
   ],
   "source": [
    "uniform_array = np.random.rand(2, 1)\n",
    "print(\"Массив с равномерным распределением:\")\n",
    "print(uniform_array)\n",
    "    \n",
    "normal_array = np.random.randn(2, 1)\n",
    "print(\"Массив с нормальным распределением:\")\n",
    "print(normal_array)"
   ]
  },
  {
   "cell_type": "code",
   "execution_count": 20,
   "metadata": {},
   "outputs": [
    {
     "name": "stdout",
     "output_type": "stream",
     "text": [
      "ndim: 2\n",
      "shape: (2, 1)\n",
      "size: 2\n",
      "dtype: float64\n",
      "itemsize: 8 bytes\n"
     ]
    }
   ],
   "source": [
    "print(f\"ndim: {array.ndim}\")\n",
    "print(f\"shape: {array.shape}\")\n",
    "print(f\"size: {array.size}\")\n",
    "print(f\"dtype: {array.dtype}\")\n",
    "print(f\"itemsize: {array.itemsize} bytes\")"
   ]
  },
  {
   "cell_type": "code",
   "execution_count": 22,
   "metadata": {},
   "outputs": [
    {
     "name": "stdout",
     "output_type": "stream",
     "text": [
      "Shape: (2, 1)\n",
      "Dimensions: 2\n",
      "Data type: float64\n",
      "Item size: 8 bytes\n",
      "Total elements: 2\n"
     ]
    }
   ],
   "source": [
    "def print_array_info(a):\n",
    "    print(f\"Shape: {a.shape}\")\n",
    "    print(f\"Dimensions: {a.ndim}\")\n",
    "    print(f\"Data type: {a.dtype.name}\")\n",
    "    print(f\"Item size: {a.itemsize} bytes\")\n",
    "    print(f\"Total elements: {a.size}\")\n",
    "\n",
    "print_array_info(array)"
   ]
  },
  {
   "cell_type": "code",
   "execution_count": 25,
   "metadata": {},
   "outputs": [
    {
     "name": "stdout",
     "output_type": "stream",
     "text": [
      "                Column Data_Type\n",
      "0                  Age     int64\n",
      "1               Gender     int64\n",
      "2             Polyuria     int64\n",
      "3           Polydipsia     int64\n",
      "4   sudden weight loss     int64\n",
      "5             weakness     int64\n",
      "6           Polyphagia     int64\n",
      "7       Genital thrush     int64\n",
      "8      visual blurring     int64\n",
      "9              Itching     int64\n",
      "10        Irritability     int64\n",
      "11     delayed healing     int64\n",
      "12     partial paresis     int64\n",
      "13    muscle stiffness     int64\n",
      "14            Alopecia     int64\n",
      "15             Obesity     int64\n",
      "16               class     int64\n"
     ]
    }
   ],
   "source": [
    "import pandas as pd\n",
    "\n",
    "df = pd.read_csv('diabetes_data_numeric.csv')\n",
    "\n",
    "dtypes = {}\n",
    "for column in df.columns:\n",
    "    numpy_type = df[column].to_numpy().dtype\n",
    "    dtypes[column] = str(numpy_type)\n",
    "\n",
    "dtypes_df = pd.DataFrame(list(dtypes.items()), columns=['Column', 'Data_Type'])\n",
    "\n",
    "dtypes_df.to_csv('diabetes_data_types.csv', index=False)\n",
    "\n",
    "print(dtypes_df)"
   ]
  },
  {
   "cell_type": "code",
   "execution_count": null,
   "metadata": {},
   "outputs": [
    {
     "name": "stdout",
     "output_type": "stream",
     "text": [
      "   Age  Gender  Polyuria  Polydipsia  sudden weight loss  weakness  \\\n",
      "0   40       1         0           1                   0         1   \n",
      "1   58       1         0           0                   0         1   \n",
      "2   41       1         1           0                   0         1   \n",
      "3   45       1         0           0                   1         1   \n",
      "4   60       1         1           1                   1         1   \n",
      "\n",
      "   Polyphagia  Genital thrush  visual blurring  Itching  Irritability  \\\n",
      "0           0               0                0        1             0   \n",
      "1           0               0                1        0             0   \n",
      "2           1               0                0        1             0   \n",
      "3           1               1                0        1             0   \n",
      "4           1               0                1        1             1   \n",
      "\n",
      "   delayed healing  partial paresis  muscle stiffness  Alopecia  Obesity  \\\n",
      "0                1                0                 1         1        1   \n",
      "1                0                1                 0         1        0   \n",
      "2                1                0                 1         1        0   \n",
      "3                1                0                 0         0        0   \n",
      "4                1                1                 1         1        1   \n",
      "\n",
      "   class  \n",
      "0      1  \n",
      "1      1  \n",
      "2      1  \n",
      "3      1  \n",
      "4      1  \n",
      "Numeric data saved to 'diabetes_data_numeric.csv'\n"
     ]
    }
   ],
   "source": [
    "df_numeric = df.copy()\n",
    "\n",
    "df_numeric['Gender'] = np.where(df_numeric['Gender'] == 'Male', 1, 0)\n",
    "\n",
    "yes_no_columns = ['Polyuria', 'Polydipsia', 'sudden weight loss', 'weakness', \n",
    "                  'Polyphagia', 'Genital thrush', 'visual blurring', 'Itching',\n",
    "                  'Irritability', 'delayed healing', 'partial paresis', \n",
    "                  'muscle stiffness', 'Alopecia', 'Obesity']\n",
    "\n",
    "for col in yes_no_columns:\n",
    "    df_numeric[col] = np.where(df_numeric[col] == 'Yes', 1, 0)\n",
    "\n",
    "df_numeric['class'] = np.where(df_numeric['class'] == 'Positive', 1, 0)\n",
    "\n",
    "print(df_numeric.head())\n",
    "\n",
    "df_numeric.to_csv('diabetes_data_numeric.csv', index=False)"
   ]
  }
 ],
 "metadata": {
  "kernelspec": {
   "display_name": "Python 3",
   "language": "python",
   "name": "python3"
  },
  "language_info": {
   "codemirror_mode": {
    "name": "ipython",
    "version": 3
   },
   "file_extension": ".py",
   "mimetype": "text/x-python",
   "name": "python",
   "nbconvert_exporter": "python",
   "pygments_lexer": "ipython3",
   "version": "3.12.9"
  }
 },
 "nbformat": 4,
 "nbformat_minor": 2
}
